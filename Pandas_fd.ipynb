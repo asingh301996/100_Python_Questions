{
 "cells": [
  {
   "cell_type": "code",
   "execution_count": 7,
   "id": "129a9f80-ffca-46bf-b967-4e7bda52116b",
   "metadata": {},
   "outputs": [],
   "source": [
    "import pandas as pd"
   ]
  },
  {
   "cell_type": "code",
   "execution_count": null,
   "id": "c022eda1-83cd-47a4-99e8-82711e4c28ed",
   "metadata": {},
   "outputs": [],
   "source": [
    "#pandas is basically a table manipulator which has 2 main objects\n",
    "1. pd.Series --> column\n",
    "2. pd.DataFrame --> table"
   ]
  },
  {
   "cell_type": "code",
   "execution_count": 24,
   "id": "cf9765bc-4f51-482b-9a69-e3b295d2c0f8",
   "metadata": {},
   "outputs": [
    {
     "name": "stdout",
     "output_type": "stream",
     "text": [
      "      name  age\n",
      "0    Alice   25\n",
      "1      Bob   30\n",
      "2  Charlie   22\n",
      "3    David   28\n",
      "4    David   26\n"
     ]
    },
    {
     "data": {
      "text/plain": [
       "0    25\n",
       "1    30\n",
       "2    22\n",
       "3    28\n",
       "4    26\n",
       "Name: age, dtype: int64"
      ]
     },
     "execution_count": 24,
     "metadata": {},
     "output_type": "execute_result"
    }
   ],
   "source": [
    "data = {\n",
    "    \"name\": [\"Alice\", \"Bob\", \"Charlie\", \"David\", \"David\"],\n",
    "    \"age\": [25, 30, 22, 28, 26]\n",
    "}\n",
    "# making a table out of a data dictionary \n",
    "df= pd.DataFrame(data)\n",
    "print(df)\n",
    "\n",
    "# printing columns\n",
    "df['name']\n",
    "df['age']"
   ]
  },
  {
   "cell_type": "code",
   "execution_count": 21,
   "id": "a2deecb7-5ec4-4250-93c8-4dee8dd30052",
   "metadata": {},
   "outputs": [
    {
     "data": {
      "text/plain": [
       "0    False\n",
       "1     True\n",
       "2    False\n",
       "3    False\n",
       "4    False\n",
       "Name: age, dtype: bool"
      ]
     },
     "execution_count": 21,
     "metadata": {},
     "output_type": "execute_result"
    }
   ],
   "source": [
    "#if i want to get people above age 30 then \n",
    "filter_age=df['age']>=30\n",
    "filter_age"
   ]
  },
  {
   "cell_type": "code",
   "execution_count": 22,
   "id": "2f8027ea-9361-4fe2-b619-4c649972f71d",
   "metadata": {},
   "outputs": [
    {
     "data": {
      "text/html": [
       "<div>\n",
       "<style scoped>\n",
       "    .dataframe tbody tr th:only-of-type {\n",
       "        vertical-align: middle;\n",
       "    }\n",
       "\n",
       "    .dataframe tbody tr th {\n",
       "        vertical-align: top;\n",
       "    }\n",
       "\n",
       "    .dataframe thead th {\n",
       "        text-align: right;\n",
       "    }\n",
       "</style>\n",
       "<table border=\"1\" class=\"dataframe\">\n",
       "  <thead>\n",
       "    <tr style=\"text-align: right;\">\n",
       "      <th></th>\n",
       "      <th>name</th>\n",
       "      <th>age</th>\n",
       "    </tr>\n",
       "  </thead>\n",
       "  <tbody>\n",
       "    <tr>\n",
       "      <th>1</th>\n",
       "      <td>Bob</td>\n",
       "      <td>30</td>\n",
       "    </tr>\n",
       "  </tbody>\n",
       "</table>\n",
       "</div>"
      ],
      "text/plain": [
       "  name  age\n",
       "1  Bob   30"
      ]
     },
     "execution_count": 22,
     "metadata": {},
     "output_type": "execute_result"
    }
   ],
   "source": [
    "df[filter_age]"
   ]
  },
  {
   "cell_type": "code",
   "execution_count": 27,
   "id": "e84ba558-2414-4025-8f8f-3c3e12b5c03e",
   "metadata": {},
   "outputs": [
    {
     "data": {
      "text/html": [
       "<div>\n",
       "<style scoped>\n",
       "    .dataframe tbody tr th:only-of-type {\n",
       "        vertical-align: middle;\n",
       "    }\n",
       "\n",
       "    .dataframe tbody tr th {\n",
       "        vertical-align: top;\n",
       "    }\n",
       "\n",
       "    .dataframe thead th {\n",
       "        text-align: right;\n",
       "    }\n",
       "</style>\n",
       "<table border=\"1\" class=\"dataframe\">\n",
       "  <thead>\n",
       "    <tr style=\"text-align: right;\">\n",
       "      <th></th>\n",
       "      <th>age</th>\n",
       "    </tr>\n",
       "    <tr>\n",
       "      <th>name</th>\n",
       "      <th></th>\n",
       "    </tr>\n",
       "  </thead>\n",
       "  <tbody>\n",
       "    <tr>\n",
       "      <th>Alice</th>\n",
       "      <td>25.0</td>\n",
       "    </tr>\n",
       "    <tr>\n",
       "      <th>Bob</th>\n",
       "      <td>30.0</td>\n",
       "    </tr>\n",
       "    <tr>\n",
       "      <th>Charlie</th>\n",
       "      <td>22.0</td>\n",
       "    </tr>\n",
       "    <tr>\n",
       "      <th>David</th>\n",
       "      <td>27.0</td>\n",
       "    </tr>\n",
       "  </tbody>\n",
       "</table>\n",
       "</div>"
      ],
      "text/plain": [
       "          age\n",
       "name         \n",
       "Alice    25.0\n",
       "Bob      30.0\n",
       "Charlie  22.0\n",
       "David    27.0"
      ]
     },
     "execution_count": 27,
     "metadata": {},
     "output_type": "execute_result"
    }
   ],
   "source": [
    "# if i want to see average weight of unique names \n",
    "df.groupby('name'). agg(\n",
    "           {\n",
    "               \"age\":\"mean\"\n",
    "\n",
    "            }\n",
    "            )"
   ]
  },
  {
   "cell_type": "code",
   "execution_count": 31,
   "id": "051a5677-cddb-4f47-9884-e34e2bec44e4",
   "metadata": {},
   "outputs": [
    {
     "data": {
      "text/html": [
       "<div>\n",
       "<style scoped>\n",
       "    .dataframe tbody tr th:only-of-type {\n",
       "        vertical-align: middle;\n",
       "    }\n",
       "\n",
       "    .dataframe tbody tr th {\n",
       "        vertical-align: top;\n",
       "    }\n",
       "\n",
       "    .dataframe thead th {\n",
       "        text-align: right;\n",
       "    }\n",
       "</style>\n",
       "<table border=\"1\" class=\"dataframe\">\n",
       "  <thead>\n",
       "    <tr style=\"text-align: right;\">\n",
       "      <th></th>\n",
       "      <th>age</th>\n",
       "    </tr>\n",
       "    <tr>\n",
       "      <th>name</th>\n",
       "      <th></th>\n",
       "    </tr>\n",
       "  </thead>\n",
       "  <tbody>\n",
       "    <tr>\n",
       "      <th>Alice</th>\n",
       "      <td>25</td>\n",
       "    </tr>\n",
       "    <tr>\n",
       "      <th>Bob</th>\n",
       "      <td>30</td>\n",
       "    </tr>\n",
       "    <tr>\n",
       "      <th>Charlie</th>\n",
       "      <td>22</td>\n",
       "    </tr>\n",
       "    <tr>\n",
       "      <th>David</th>\n",
       "      <td>28</td>\n",
       "    </tr>\n",
       "  </tbody>\n",
       "</table>\n",
       "</div>"
      ],
      "text/plain": [
       "         age\n",
       "name        \n",
       "Alice     25\n",
       "Bob       30\n",
       "Charlie   22\n",
       "David     28"
      ]
     },
     "execution_count": 31,
     "metadata": {},
     "output_type": "execute_result"
    }
   ],
   "source": [
    "# if i want to look at the oldest table then I want to look at the max \n",
    "df.groupby('name'). agg (\n",
    "\n",
    "    {\n",
    "        \"age\": \"max\"\n",
    "    }\n",
    ")"
   ]
  },
  {
   "cell_type": "code",
   "execution_count": 35,
   "id": "39f6eae4-81cf-4d24-a1d1-f454ff482e7e",
   "metadata": {},
   "outputs": [
    {
     "data": {
      "text/plain": [
       "RangeIndex(start=0, stop=5, step=1)"
      ]
     },
     "execution_count": 35,
     "metadata": {},
     "output_type": "execute_result"
    }
   ],
   "source": [
    "df.index"
   ]
  },
  {
   "cell_type": "code",
   "execution_count": 36,
   "id": "2f6a91d0-abb9-4fb3-9f9b-6cd7295254bb",
   "metadata": {},
   "outputs": [
    {
     "ename": "NameError",
     "evalue": "name 'DataFrame' is not defined",
     "output_type": "error",
     "traceback": [
      "\u001b[31m---------------------------------------------------------------------------\u001b[39m",
      "\u001b[31mNameError\u001b[39m                                 Traceback (most recent call last)",
      "\u001b[36mCell\u001b[39m\u001b[36m \u001b[39m\u001b[32mIn[36]\u001b[39m\u001b[32m, line 1\u001b[39m\n\u001b[32m----> \u001b[39m\u001b[32m1\u001b[39m \u001b[43mDataFrame\u001b[49m \u001b[38;5;129;01mand\u001b[39;00m Series \u001b[38;5;129;01min\u001b[39;00m Pandas\n",
      "\u001b[31mNameError\u001b[39m: name 'DataFrame' is not defined"
     ]
    }
   ],
   "source": [
    "DataFrame and Series in Pandas\n",
    "Each column in a DataFrame is a Pandas Series, and together, they create a powerful and flexible structure for handling data.\n",
    "    Accessing Data:\n",
    "    \n",
    "# Accessing a specific column\n",
    "names = df['Name']\n",
    " \n",
    "# Slicing rows\n",
    "subset = df[1:3]\n",
    "    \n",
    "  \n",
    "Manipulating Data:\n",
    "    \n",
    "# Adding a new column\n",
    "df['Salary'] = [50000, 60000, 55000]\n",
    " \n",
    "# Filtering rows\n",
    "youngsters = df[df['Age'] < 25]\n",
    "    \n",
    "  \n",
    "Pandas Series:\n",
    "A Series is essentially a one-dimensional array with labeled indices. It's the backbone of a DataFrame, and understanding it is crucial for effective data manipulation.\n",
    "\n",
    "Creating a Series:\n",
    "    \n",
    "# Creating a Series from a list\n",
    "ages = pd.Series([25, 28, 22], name='Age')\n",
    "    \n",
    "  \n",
    "Accessing and Manipulating:\n",
    "    \n",
    "# Accessing elements by index\n",
    "first_age = ages[0]\n",
    " \n",
    "# Applying a function to each element\n",
    "ages_in_months = ages.apply(lambda x: x * 12)\n",
    "    \n",
    "  \n",
    "Key Features of Pandas DataFrame and Series:\n",
    "Data Alignment: One of the key advantages of Pandas is its automatic data alignment. Operations between Series and DataFrames align data based on labels, making it easy to work with incomplete or differently indexed data.\n",
    "\n",
    "Missing Data Handling: Pandas provides robust tools for handling missing data, making it easier to clean and preprocess datasets.\n",
    "\n",
    "GroupBy Operations: GroupBy operations in Pandas enable users to split data into groups based on some criteria and then apply a function to each group independently.\n",
    "\n",
    "Merge and Concatenate: Pandas simplifies data integration by providing functions like merge and concat to combine DataFrames along either rows or columns.\n",
    "\n",
    "Pandas DataFrame and Series are indispensable tools for any data engineer or analyst working with Python. Their flexibility, efficiency, and comprehensive functionality make them go-to choices for data manipulation and analysis. Whether you are cleaning messy data, performing complex transformations, or conducting exploratory data analysis, Pandas empowers you to accomplish these tasks with ease.\n"
   ]
  },
  {
   "cell_type": "markdown",
   "id": "7e0b4527-4474-4992-99d3-e6342632539c",
   "metadata": {},
   "source": [
    "Filtering in Pandas\n",
    "Advanced Filtering Techniques:\n",
    "Pandas offers a variety of techniques for advanced filtering:\n",
    "\n",
    "Logical Operators: Combine multiple conditions using logical operators like AND (&), OR (|), and NOT (~).\n",
    "\n",
    "isin() Method: Filter based on a list of values using the `isin()` method.\n",
    "\n",
    "String Methods: Apply string methods to filter text data efficiently.\n",
    "\n",
    "Example: Using Logical Operators\n",
    "    \n",
    "# Filtering based on multiple conditions\n",
    "young_high_earners = df[(df['Age'] < 30) & (df['Salary'] > 55000)]\n",
    "    \n",
    "  \n",
    "Example: Using isin() Method\n",
    "    \n",
    "# Filtering based on a list of names\n",
    "selected_names = df[df['Name'].isin(['Alice', 'Charlie'])]\n",
    "    \n",
    "  \n",
    "Example: Using String Methods\n",
    "    \n",
    "# Filtering names starting with 'A'\n",
    "a_names = df[df['Name'].str.startswith('A')]\n",
    "    \n",
    "  \n",
    "Filtering Null (NaN) Values:\n",
    "Handling missing data is a crucial aspect of data analysis. Pandas provides methods to filter and handle null values effectively:\n",
    "\n",
    "isnull() and notnull() Methods: Identify and filter null or non-null values.\n",
    "\n",
    "dropna() Method: Remove rows or columns containing null values.\n",
    "\n",
    "fillna() Method: Replace null values with a specified value or strategy.\n",
    "\n",
    "Example: Filtering Null Values\n",
    "    \n",
    "# Filtering rows with null values in the 'Salary' column\n",
    "non_null_salaries = df[df['Salary'].notnull()]\n",
    "    \n",
    "  \n",
    "Filtering in Pandas is a crucial skill for anyone working with data analysis or data engineering. Whether you're extracting specific subsets of data based on conditions, handling missing values, or applying advanced filtering techniques, Pandas provides a comprehensive set of tools to make the process efficient and effective. By mastering the art of filtering, you can unlock valuable insights within your datasets, enabling informed decision-making and analysis.\n",
    "\n"
   ]
  },
  {
   "cell_type": "code",
   "execution_count": 2,
   "id": "c1a340d8-c099-4360-acef-28337f34a05f",
   "metadata": {},
   "outputs": [
    {
     "ename": "SyntaxError",
     "evalue": "invalid character '🚀' (U+1F680) (1710517261.py, line 46)",
     "output_type": "error",
     "traceback": [
      "  \u001b[36mCell\u001b[39m\u001b[36m \u001b[39m\u001b[32mIn[2]\u001b[39m\u001b[32m, line 46\u001b[39m\n\u001b[31m    \u001b[39m\u001b[31mFeel free to adapt this code to your specific use case and explore other moving average methods. Happy coding! 🚀\u001b[39m\n                                                                                                                   ^\n\u001b[31mSyntaxError\u001b[39m\u001b[31m:\u001b[39m invalid character '🚀' (U+1F680)\n"
     ]
    }
   ],
   "source": [
    "Moving Averages in Pandas\n",
    "What is a Moving Average?\n",
    "A moving average calculates the average of data over a specified number of periods. It helps smooth out fluctuations and highlights underlying trends. There are several methods to calculate moving averages:\n",
    "\n",
    "Simple Moving Average (SMA): The unweighted mean of the previous K data points.\n",
    "\n",
    "Exponential Moving Average (EMA): Gives more weight to recent observations, capturing trends more quickly.\n",
    "\n",
    "Cumulative Moving Average (CMA): The cumulative value of an aggregation function (e.g., mean) over time.\n",
    "\n",
    "Calculating Moving Averages using Pandas and yfinance\n",
    "We'll focus on the SMA and EMA methods using the yfinance library to fetch stock data. Let's dive into the code:\n",
    "\n",
    "import pandas as pd\n",
    "import yfinance as yf\n",
    "import matplotlib.pyplot as plt\n",
    " \n",
    "# Define the stock symbol and fetch historical data\n",
    "stock_symbol = 'AAPL'  # Example: Apple Inc.\n",
    "data = yf.download(stock_symbol, start='2020-01-01', end='2021-12-31')\n",
    " \n",
    "# Calculate 50-day Simple Moving Average (SMA)\n",
    "data['SMA_50'] = data['Close'].rolling(window=50).mean()\n",
    " \n",
    "# Calculate 20-day Exponential Moving Average (EMA)\n",
    "data['EMA_20'] = data['Close'].ewm(span=20, adjust=False).mean()\n",
    " \n",
    "# Plot the results\n",
    "plt.figure(figsize=(10, 6))\n",
    "plt.plot(data.index, data['Close'], label='Closing Price')\n",
    "plt.plot(data.index, data['SMA_50'], label='50-Day SMA', color='orange')\n",
    "plt.plot(data.index, data['EMA_20'], label='20-Day EMA', color='green')\n",
    "plt.xlabel('Date')\n",
    "plt.ylabel('Price')\n",
    "plt.title(f'{stock_symbol} Stock Price with Moving Averages')\n",
    "plt.legend()\n",
    "plt.show()\n",
    "In this example:\n",
    "\n",
    "Replace 'AAPL' with the stock symbol of your choice.\n",
    "\n",
    "Adjust the window size (e.g., 50 days for SMA) and span (e.g., 20 days for EMA) as needed.\n",
    "\n",
    "Remember to install yfinance (pip install yfinance) before running the code.\n",
    "\n",
    "Feel free to adapt this code to your specific use case and explore other moving average methods. Happy coding! 🚀\n",
    "\n",
    "\n",
    "\n",
    "How to calculate MOVING AVERAGE in a Pandas DataFrame?. https://www.geeksforgeeks.org/how-to-calculate-moving-average-in-a-pandas-dataframe/.\n",
    "\n",
    "How to Calculate an Exponential Moving Average in Pandas - Statology. https://www.statology.org/exponential-moving-average-pandas/.\n",
    "\n",
    "Pandas & Numpy Moving Average & Exponential Moving Average Tutorial .... https://www.datacamp.com/tutorial/moving-averages-in-pandas.\n",
    "\n",
    "python - Pandas Moving Average - Stack Overflow. https://stackoverflow.com/questions/61164452/pandas-moving-average.\n",
    "\n",
    "Pandas: How to Calculate a Moving Average by Group. https://www.statology.org/pandas-moving-average-by-group/.\n",
    "\n",
    "How to Calculate a Moving Average using Pandas for Python. https://medium.com/analytics-vidhya/how-to-calculate-a-moving-average-using-pandas-for-python-d19415bebc7d.\n",
    "\n",
    "python - Moving Average Pandas - Stack Overflow. https://stackoverflow.com/questions/40060842/moving-average-pandas.\n",
    "\n",
    "Moving average strategy using Python and yfinance api. https://wire.insiderfinance.io/earn-22-more-return-by-using-a-simple-20-50-moving-average-strategy-60b4bef7c64c.\n",
    "\n",
    "Python for Finance, Part 3: Moving Average Trading Strategy. https://www.learndatasci.com/tutorials/python-finance-part-3-moving-average-trading-strategy/.\n",
    "\n",
    "How can I a weighted moving average using yfinance and pandas. https://stackoverflow.com/questions/68691399/how-can-i-a-weighted-moving-average-using-yfinance-and-pandas.\n",
    "\n",
    "\n"
   ]
  },
  {
   "cell_type": "code",
   "execution_count": null,
   "id": "d2384515-1522-49bd-bbfe-24b821636112",
   "metadata": {},
   "outputs": [],
   "source": []
  }
 ],
 "metadata": {
  "kernelspec": {
   "display_name": "Python 3 (ipykernel)",
   "language": "python",
   "name": "python3"
  },
  "language_info": {
   "codemirror_mode": {
    "name": "ipython",
    "version": 3
   },
   "file_extension": ".py",
   "mimetype": "text/x-python",
   "name": "python",
   "nbconvert_exporter": "python",
   "pygments_lexer": "ipython3",
   "version": "3.13.1"
  }
 },
 "nbformat": 4,
 "nbformat_minor": 5
}
